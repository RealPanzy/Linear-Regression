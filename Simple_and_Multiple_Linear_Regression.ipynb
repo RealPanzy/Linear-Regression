{
  "nbformat": 4,
  "nbformat_minor": 0,
  "metadata": {
    "colab": {
      "provenance": [],
      "authorship_tag": "ABX9TyMQgzCrT6b2ZJlCjQEeMC36",
      "include_colab_link": true
    },
    "kernelspec": {
      "name": "python3",
      "display_name": "Python 3"
    },
    "language_info": {
      "name": "python"
    }
  },
  "cells": [
    {
      "cell_type": "markdown",
      "metadata": {
        "id": "view-in-github",
        "colab_type": "text"
      },
      "source": [
        "<a href=\"https://colab.research.google.com/github/RealPanzy/Linear-Regression/blob/main/Simple_and_Multiple_Linear_Regression.ipynb\" target=\"_parent\"><img src=\"https://colab.research.google.com/assets/colab-badge.svg\" alt=\"Open In Colab\"/></a>"
      ]
    },
    {
      "cell_type": "code",
      "execution_count": 3,
      "metadata": {
        "colab": {
          "base_uri": "https://localhost:8080/",
          "height": 552
        },
        "id": "6-IwsxqiK6RS",
        "outputId": "21d99211-e3ad-4ecf-dbe1-2ce6920f50bb"
      },
      "outputs": [
        {
          "output_type": "stream",
          "name": "stdout",
          "text": [
            "[ 4.11764706 83.38235294]\n"
          ]
        },
        {
          "output_type": "display_data",
          "data": {
            "text/plain": [
              "<Figure size 640x480 with 1 Axes>"
            ],
            "image/png": "[encoded data removed]"
          },
          "metadata": {}
        },
        {
          "output_type": "stream",
          "name": "stdout",
          "text": [
            "Slope (coefficient): 11.323529411764705\n",
            "Intercept: -7.205882352941174\n",
            "Predicted score for 8 hours: 83.38235294117646\n",
            "Mean Absolute Error: 52.132352941176464\n",
            "Mean Squared Error: 3856.84472318339\n",
            "R² Score: -23.683806228373697\n"
          ]
        }
      ],
      "source": [
        "import numpy as np\n",
        "import matplotlib.pyplot as plt\n",
        "from sklearn.model_selection import train_test_split\n",
        "from sklearn.linear_model import LinearRegression\n",
        "from sklearn.metrics import mean_squared_error, mean_absolute_error, r2_score\n",
        "np.random.seed(5)\n",
        "X = np.array([np.random.randint(1,9,7)]).reshape(-1,1)\n",
        "y = np.array([35, 50, 65, 70, 75, 85, 90])\n",
        "\n",
        "\n",
        "X_train, X_test, y_train, y_test = train_test_split(X,y,test_size=0.2,random_state=0)\n",
        "\n",
        "model=LinearRegression()\n",
        "model.fit(X_train,y_train)\n",
        "\n",
        "y_pred=model.predict(X_test)\n",
        "\n",
        "print(y_pred)\n",
        "\n",
        "plt.scatter(X,y,color='blue')\n",
        "X_sorted = np.sort(X, axis=0)\n",
        "plt.plot(X_sorted, model.predict(X_sorted), color='red')\n",
        "\n",
        "plt.show()\n",
        "print(\"Slope (coefficient):\", model.coef_[0])\n",
        "print(\"Intercept:\", model.intercept_)\n",
        "\n",
        "# Predict for a student who studied 8 hours\n",
        "hours = np.array([[8]])\n",
        "predicted_score = model.predict(hours)\n",
        "print(f\"Predicted score for 8 hours: {predicted_score[0]}\")\n",
        "\n",
        "mae = mean_absolute_error(y_test, y_pred)\n",
        "mse = mean_squared_error(y_test, y_pred)\n",
        "r2 = r2_score(y_test, y_pred)\n",
        "\n",
        "print(\"Mean Absolute Error:\", mae)\n",
        "print(\"Mean Squared Error:\", mse)\n",
        "print(\"R² Score:\", r2)"
      ]
    },
    {
      "cell_type": "code",
      "source": [
        "print(X)"
      ],
      "metadata": {
        "colab": {
          "base_uri": "https://localhost:8080/"
        },
        "id": "JmdWkF2qQgwQ",
        "outputId": "38f8cc5a-570c-4bda-eae3-d439e53b3124"
      },
      "execution_count": null,
      "outputs": [
        {
          "output_type": "stream",
          "name": "stdout",
          "text": [
            "[[4]\n",
            " [7]\n",
            " [8]\n",
            " [6]\n",
            " [7]\n",
            " [7]\n",
            " [1]]\n"
          ]
        }
      ]
    },
    {
      "cell_type": "markdown",
      "source": [
        "# **Multiple Linear regression**"
      ],
      "metadata": {
        "id": "16O1MGxCcZYi"
      }
    },
    {
      "cell_type": "code",
      "source": [
        "X = np.array([\n",
        "    [2, 7],\n",
        "    [4, 6],\n",
        "    [5, 8],\n",
        "    [6, 7],\n",
        "    [7, 6],\n",
        "    [8, 9],\n",
        "    [9, 5]\n",
        "])\n",
        "y = np.array([35, 50, 65, 70, 75, 85, 90])\n",
        "\n",
        "X_train,X_test,y_train,y_test = train_test_split(X, y, test_size=0.2, random_state=0)\n",
        "\n",
        "model = LinearRegression()\n",
        "model.fit(X_train, y_train)\n",
        "\n",
        "y_pred = model.predict(X_test)\n",
        "\n",
        "print(y_pred)\n",
        "\n",
        "prediction=np.array([[8,6]])\n",
        "prediction_score=model.predict(prediction)\n",
        "print(prediction_score[0])\n",
        "\n",
        "\n",
        "mae = mean_absolute_error(y_test, y_pred)\n",
        "mse = mean_squared_error(y_test, y_pred)\n",
        "r2 = r2_score(y_test, y_pred)"
      ],
      "metadata": {
        "colab": {
          "base_uri": "https://localhost:8080/"
        },
        "id": "Be-U13Q7cnzI",
        "outputId": "7b062fe5-124a-4afe-a100-f83800b985ed"
      },
      "execution_count": 7,
      "outputs": [
        {
          "output_type": "stream",
          "name": "stdout",
          "text": [
            "[91.30472855 60.35901926]\n",
            "83.73029772329245\n"
          ]
        }
      ]
    }
  ]
}